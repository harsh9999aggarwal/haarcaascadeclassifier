{
 "cells": [
  {
   "cell_type": "code",
   "execution_count": 1,
   "metadata": {},
   "outputs": [],
   "source": [
    "import cv2\n",
    "import os"
   ]
  },
  {
   "cell_type": "code",
   "execution_count": null,
   "metadata": {},
   "outputs": [
    {
     "name": "stdout",
     "output_type": "stream",
     "text": [
      "number of faces found : (faces)\n"
     ]
    }
   ],
   "source": [
    "def find_faces(image_path):\n",
    "    image=cv2.imread(image_path)\n",
    "    color_img=image.copy()\n",
    "    filename=os.path.basename(image_path)\n",
    "    gray_img=cv2.cvtColor(color_img,cv2.COLOR_BGR2GRAY)\n",
    "    haar_classifier=cv2.CascadeClassifier('haarcascade_frontalface_alt.xml')\n",
    "    eye_cascade=cv2.CascadeClassifier('haarcascade_eye.xml')\n",
    "    faces=haar_classifier.detectMultiScale(gray_img,scaleFactor=1.1,minNeighbors=5)\n",
    "    print(\"number of faces found : (faces)\".format(faces=len(faces)))\n",
    "    for (x,y,width,height)in faces:\n",
    "        cv2.rectangle(color_img,(x,y),(x+width,y+height),(0,255,0),2)\n",
    "        roi_gray=gray_img[y:y+height,x:x+width]\n",
    "        roi_color=color_img[y:y+height,x:x+width]\n",
    "        eyes=eye_cascade.detectMultiScale(roi_gray)\n",
    "        for(ex,ey,ew,eh) in eyes:\n",
    "            cv2.rectangle(roi_color,(ex,ey),(ex+ew,ey+eh),(0,255,0),0)\n",
    "    cv2.imshow(filename,color_img)\n",
    "    cv2.waitKey(0)\n",
    "    cv2.destroyAllWindows()\n",
    "if __name__ == '__main__':\n",
    "    find_faces(\"face.jpeg\")"
   ]
  },
  {
   "cell_type": "code",
   "execution_count": null,
   "metadata": {},
   "outputs": [],
   "source": [
    "\n",
    "copy?\n"
   ]
  },
  {
   "cell_type": "code",
   "execution_count": null,
   "metadata": {},
   "outputs": [],
   "source": []
  }
 ],
 "metadata": {
  "kernelspec": {
   "display_name": "Python 3",
   "language": "python",
   "name": "python3"
  },
  "language_info": {
   "codemirror_mode": {
    "name": "ipython",
    "version": 3
   },
   "file_extension": ".py",
   "mimetype": "text/x-python",
   "name": "python",
   "nbconvert_exporter": "python",
   "pygments_lexer": "ipython3",
   "version": "3.7.3"
  }
 },
 "nbformat": 4,
 "nbformat_minor": 2
}
